{
 "cells": [
  {
   "cell_type": "markdown",
   "metadata": {},
   "source": [
    "MATA KULIAH      : PENJAMINAN MUTU PERANGKAT LUNAK       \n",
    "DOSEN PENGAMPU   : RIZAL BROER BAHAWERES M.KOM.       \n",
    "   \n",
    "Mahasiswa :\n",
    "Ario Dwi Panjiasmara (11180910000109)"
   ]
  },
  {
   "cell_type": "code",
   "execution_count": 1,
   "metadata": {},
   "outputs": [
    {
     "name": "stdout",
     "output_type": "stream",
     "text": [
      "JOHN TRAVOLTA\n",
      "Gaji  sebesar Rp 15000 /jam\n",
      "Bonus sebesar Rp 22500.0 /jam\n",
      "Akan dapat bonus kalau kerja lebih dari 40 jam dalam seminggu\n",
      " \n",
      "Bekerja berapa jam dalam seminggu? 52\n",
      "Bekerja selama  52 jam\n",
      "Berapa banyak pengeluaran dalam seminggu? 600000\n",
      "Pengeluaran sebesar Rp 600000\n",
      " \n",
      "Bisa menabung sebesar Rp 270000.0\n"
     ]
    }
   ],
   "source": [
    "gaji = 15000\n",
    "bonus = 1.5 * gaji\n",
    "jam = 40\n",
    "\n",
    "print('JOHN TRAVOLTA')\n",
    "print('Gaji  sebesar Rp' , gaji , '/jam')\n",
    "print('Bonus sebesar Rp' , bonus , '/jam')\n",
    "print('Akan dapat bonus kalau kerja lebih dari 40 jam dalam seminggu')\n",
    "print(\" \")\n",
    "\n",
    "kerja = int(input('Bekerja berapa jam dalam seminggu? '))\n",
    "print('Bekerja selama ' , kerja , 'jam')\n",
    "pengeluaran = int(input('Berapa banyak pengeluaran dalam seminggu? '))\n",
    "print('Pengeluaran sebesar Rp' , pengeluaran)\n",
    "\n",
    "if kerja > jam :\n",
    "    lembur = kerja-jam\n",
    "    pemasukan = jam*gaji + lembur*bonus\n",
    "else :\n",
    "    pemasukan = kerja*gaji\n",
    "    print('Total gaji sebesar Rp' , pemasukan)\n",
    "print(\" \")\n",
    "    \n",
    "if pemasukan > pengeluaran :\n",
    "    tabung = pemasukan - int(pengeluaran)\n",
    "    print('Bisa menabung sebesar Rp' , tabung)\n",
    "elif pemasukan == pengeluaran :\n",
    "    print('Tidak bisa nabung')\n",
    "else :\n",
    "    print('Cari tambahan')"
   ]
  },
  {
   "cell_type": "code",
   "execution_count": null,
   "metadata": {},
   "outputs": [],
   "source": []
  }
 ],
 "metadata": {
  "kernelspec": {
   "display_name": "Python 3",
   "language": "python",
   "name": "python3"
  },
  "language_info": {
   "codemirror_mode": {
    "name": "ipython",
    "version": 3
   },
   "file_extension": ".py",
   "mimetype": "text/x-python",
   "name": "python",
   "nbconvert_exporter": "python",
   "pygments_lexer": "ipython3",
   "version": "3.8.3"
  }
 },
 "nbformat": 4,
 "nbformat_minor": 4
}
